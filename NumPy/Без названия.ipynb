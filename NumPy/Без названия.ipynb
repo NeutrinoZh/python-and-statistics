{
 "cells": [
  {
   "cell_type": "code",
   "execution_count": 1,
   "id": "6579c8e2-3fbf-427a-bcca-f3b3eb13a4d8",
   "metadata": {},
   "outputs": [
    {
     "data": {
      "text/plain": [
       "(array([5, 0, 3, 3, 7, 9]),\n",
       " array([[8, 7, 9, 5, 5, 9, 7, 6],\n",
       "        [5, 6, 6, 5, 6, 9, 8, 5],\n",
       "        [8, 5, 7, 8, 5, 6, 8, 8],\n",
       "        [8, 5, 6, 6, 6, 5, 7, 9],\n",
       "        [8, 8, 7, 9, 7, 5, 5, 9],\n",
       "        [5, 9, 6, 9, 6, 7, 7, 5],\n",
       "        [6, 6, 6, 6, 8, 8, 7, 8]]),\n",
       " array([[[ 5, 19,  8],\n",
       "         [17, 15, 16],\n",
       "         [ 9, 11,  9],\n",
       "         [20,  8, 17],\n",
       "         [ 9, 13, 19],\n",
       "         [20,  8, 20],\n",
       "         [18, 21, 22],\n",
       "         [10, 14,  8]],\n",
       " \n",
       "        [[ 5, 10,  5],\n",
       "         [22, 23,  9],\n",
       "         [ 7, 21,  8],\n",
       "         [ 7, 15, 18],\n",
       "         [21, 12, 14],\n",
       "         [ 5, 15, 23],\n",
       "         [16,  7,  7],\n",
       "         [ 8,  8, 23]],\n",
       " \n",
       "        [[19,  8, 22],\n",
       "         [23, 19, 14],\n",
       "         [ 6,  9, 15],\n",
       "         [16, 13, 16],\n",
       "         [ 7, 24, 21],\n",
       "         [ 5,  5, 11],\n",
       "         [24, 19, 15],\n",
       "         [24, 13, 18]],\n",
       " \n",
       "        [[ 7,  8,  7],\n",
       "         [16, 18, 21],\n",
       "         [13, 13, 24],\n",
       "         [13,  7,  8],\n",
       "         [17, 19,  5],\n",
       "         [ 9,  8, 18],\n",
       "         [16, 18, 18],\n",
       "         [16, 21, 19]],\n",
       " \n",
       "        [[21, 24,  6],\n",
       "         [13,  5,  9],\n",
       "         [11, 18, 12],\n",
       "         [20, 14, 23],\n",
       "         [13, 20, 16],\n",
       "         [11, 20,  6],\n",
       "         [17,  8, 23],\n",
       "         [20,  8, 15]],\n",
       " \n",
       "        [[17, 11,  8],\n",
       "         [10, 16,  5],\n",
       "         [16, 13, 15],\n",
       "         [16, 10, 20],\n",
       "         [13,  7, 24],\n",
       "         [24, 19,  8],\n",
       "         [ 8, 12, 14],\n",
       "         [14, 14,  8]],\n",
       " \n",
       "        [[19, 23, 17],\n",
       "         [ 8, 14, 15],\n",
       "         [18, 12, 12],\n",
       "         [ 6, 17,  7],\n",
       "         [ 7,  6, 10],\n",
       "         [13,  9,  5],\n",
       "         [16,  7, 10],\n",
       "         [21, 13,  6]]]))"
      ]
     },
     "execution_count": 1,
     "metadata": {},
     "output_type": "execute_result"
    }
   ],
   "source": [
    "import numpy as np\n",
    "np.random.seed(0)\n",
    "\n",
    "x1 = np.random.randint(10, size=6)\n",
    "x2 = np.random.randint(5, 10, size=(7, 8))\n",
    "x3 = np.random.randint(5, 25, size=(7, 8, 3))\n",
    "\n",
    "x1, x2, x3"
   ]
  },
  {
   "cell_type": "code",
   "execution_count": 2,
   "id": "e930a44f-a259-4c9e-bcb5-b0016e0bdd7b",
   "metadata": {},
   "outputs": [
    {
     "data": {
      "text/plain": [
       "3"
      ]
     },
     "execution_count": 2,
     "metadata": {},
     "output_type": "execute_result"
    }
   ],
   "source": [
    "x3.ndim"
   ]
  },
  {
   "cell_type": "code",
   "execution_count": 3,
   "id": "009d2660-f8f6-47cc-9e87-c2286f1cf17c",
   "metadata": {},
   "outputs": [
    {
     "data": {
      "text/plain": [
       "(7, 8, 3)"
      ]
     },
     "execution_count": 3,
     "metadata": {},
     "output_type": "execute_result"
    }
   ],
   "source": [
    "x3.shape"
   ]
  },
  {
   "cell_type": "code",
   "execution_count": 4,
   "id": "86be2dbd-4752-4a58-be2d-15e9d68b91aa",
   "metadata": {},
   "outputs": [
    {
     "data": {
      "text/plain": [
       "168"
      ]
     },
     "execution_count": 4,
     "metadata": {},
     "output_type": "execute_result"
    }
   ],
   "source": [
    "x3.size"
   ]
  },
  {
   "cell_type": "code",
   "execution_count": 5,
   "id": "b2725ce7-5c7c-4f57-a6ce-1530af551d8f",
   "metadata": {},
   "outputs": [
    {
     "data": {
      "text/plain": [
       "dtype('int32')"
      ]
     },
     "execution_count": 5,
     "metadata": {},
     "output_type": "execute_result"
    }
   ],
   "source": [
    "x3.dtype"
   ]
  },
  {
   "cell_type": "code",
   "execution_count": 6,
   "id": "e16bcd6f-1316-41d3-8ece-f89f1e2a8cdb",
   "metadata": {},
   "outputs": [
    {
     "data": {
      "text/plain": [
       "array([[[ 5, 19,  8],\n",
       "        [17, 15, 16],\n",
       "        [ 9, 11,  9]],\n",
       "\n",
       "       [[ 5, 10,  5],\n",
       "        [22, 23,  9],\n",
       "        [ 7, 21,  8]]])"
      ]
     },
     "execution_count": 6,
     "metadata": {},
     "output_type": "execute_result"
    }
   ],
   "source": [
    "x3[:2, :3]"
   ]
  },
  {
   "cell_type": "code",
   "execution_count": 7,
   "id": "87ad6701-7f0c-4e2e-b4cd-6c7b9b2c9f77",
   "metadata": {},
   "outputs": [
    {
     "name": "stdout",
     "output_type": "stream",
     "text": [
      "[[1 2 3]\n",
      " [4 5 6]\n",
      " [7 8 9]]\n"
     ]
    }
   ],
   "source": [
    "grid = np.arange(1, 10).reshape((3, 3))\n",
    "print(grid)"
   ]
  },
  {
   "cell_type": "code",
   "execution_count": 9,
   "id": "4bce0e4a-b642-4633-8938-525056386895",
   "metadata": {},
   "outputs": [
    {
     "data": {
      "text/plain": [
       "array([1, 2, 3, 3, 2, 1])"
      ]
     },
     "execution_count": 9,
     "metadata": {},
     "output_type": "execute_result"
    }
   ],
   "source": [
    "x = np.array([1, 2, 3])\n",
    "y = np.array([3, 2, 1])\n",
    "np.concatenate([ x, y ])"
   ]
  },
  {
   "cell_type": "code",
   "execution_count": 10,
   "id": "8c8edd8a-eafd-4f70-a226-dfe833797303",
   "metadata": {},
   "outputs": [
    {
     "data": {
      "text/plain": [
       "(array([1, 2, 3]), array([99, 99]), array([3, 2, 1]))"
      ]
     },
     "execution_count": 10,
     "metadata": {},
     "output_type": "execute_result"
    }
   ],
   "source": [
    "x = [1, 2, 3, 99, 99, 3, 2, 1]\n",
    "x1, x2, x3 = np.split(x, [3, 5])\n",
    "x1, x2, x3"
   ]
  },
  {
   "cell_type": "code",
   "execution_count": 13,
   "id": "0a1640a8-a16d-4b11-b965-78c4e1e8114d",
   "metadata": {},
   "outputs": [
    {
     "data": {
      "text/plain": [
       "array([0.        , 0.04986655, 0.0997331 , 0.14959965, 0.1994662 ,\n",
       "       0.24933275, 0.2991993 , 0.34906585, 0.3989324 , 0.44879895,\n",
       "       0.4986655 , 0.54853205, 0.5983986 , 0.64826515, 0.6981317 ,\n",
       "       0.74799825, 0.7978648 , 0.84773135, 0.8975979 , 0.94746445,\n",
       "       0.997331  , 1.04719755, 1.0970641 , 1.14693065, 1.1967972 ,\n",
       "       1.24666375, 1.2965303 , 1.34639685, 1.3962634 , 1.44612995,\n",
       "       1.4959965 , 1.54586305, 1.5957296 , 1.64559615, 1.6954627 ,\n",
       "       1.74532925, 1.7951958 , 1.84506235, 1.8949289 , 1.94479545,\n",
       "       1.994662  , 2.04452855, 2.0943951 , 2.14426165, 2.1941282 ,\n",
       "       2.24399475, 2.2938613 , 2.34372785, 2.3935944 , 2.44346095,\n",
       "       2.4933275 , 2.54319405, 2.5930606 , 2.64292715, 2.6927937 ,\n",
       "       2.74266025, 2.7925268 , 2.84239335, 2.8922599 , 2.94212645,\n",
       "       2.991993  , 3.04185955, 3.0917261 , 3.14159265])"
      ]
     },
     "execution_count": 13,
     "metadata": {},
     "output_type": "execute_result"
    }
   ],
   "source": [
    "theta = np.linspace(0, np.pi, 64)\n",
    "theta"
   ]
  },
  {
   "cell_type": "code",
   "execution_count": 16,
   "id": "618ac4a0-8122-4099-850c-c1dd13ec2267",
   "metadata": {},
   "outputs": [
    {
     "name": "stdout",
     "output_type": "stream",
     "text": [
      "[ 1.  0.  2.  0.  4.  0.  8.  0. 16.  0.]\n"
     ]
    }
   ],
   "source": [
    "x = np.array(np.arange(0, 5))\n",
    "y = np.zeros(10)\n",
    "np.power(2, x, out=y[::2])\n",
    "print(y)"
   ]
  },
  {
   "cell_type": "code",
   "execution_count": 20,
   "id": "10de60d2-f704-4561-8358-fc90305a988f",
   "metadata": {},
   "outputs": [
    {
     "data": {
      "text/plain": [
       "10"
      ]
     },
     "execution_count": 20,
     "metadata": {},
     "output_type": "execute_result"
    }
   ],
   "source": [
    "np.add.reduce(x)"
   ]
  },
  {
   "cell_type": "code",
   "execution_count": 18,
   "id": "cd5fb5b6-c639-4e72-84d2-39f1b0785cda",
   "metadata": {},
   "outputs": [
    {
     "data": {
      "text/plain": [
       "array([0, 1, 2, 3, 4])"
      ]
     },
     "execution_count": 18,
     "metadata": {},
     "output_type": "execute_result"
    }
   ],
   "source": [
    "x"
   ]
  },
  {
   "cell_type": "code",
   "execution_count": 21,
   "id": "c7317222-8aaf-448f-9680-55e748261c55",
   "metadata": {},
   "outputs": [
    {
     "data": {
      "text/plain": [
       "array([ 0,  1,  3,  6, 10], dtype=int32)"
      ]
     },
     "execution_count": 21,
     "metadata": {},
     "output_type": "execute_result"
    }
   ],
   "source": [
    "np.add.accumulate(x)"
   ]
  },
  {
   "cell_type": "code",
   "execution_count": 22,
   "id": "e6361bea-1e02-4e60-b522-db263cad69da",
   "metadata": {},
   "outputs": [
    {
     "data": {
      "text/plain": [
       "array([     1,      2,      6,     24,    120,    720,   5040,  40320,\n",
       "       362880], dtype=int32)"
      ]
     },
     "execution_count": 22,
     "metadata": {},
     "output_type": "execute_result"
    }
   ],
   "source": [
    "x = np.array(np.arange(1, 10))\n",
    "np.multiply.accumulate(x)"
   ]
  },
  {
   "cell_type": "code",
   "execution_count": 23,
   "id": "be30e981-f8be-4a40-a1a2-097887bff087",
   "metadata": {},
   "outputs": [
    {
     "data": {
      "text/plain": [
       "array([[ 1,  2,  3,  4,  5],\n",
       "       [ 2,  4,  6,  8, 10],\n",
       "       [ 3,  6,  9, 12, 15],\n",
       "       [ 4,  8, 12, 16, 20],\n",
       "       [ 5, 10, 15, 20, 25]])"
      ]
     },
     "execution_count": 23,
     "metadata": {},
     "output_type": "execute_result"
    }
   ],
   "source": [
    "x = np.arange(1, 6)\n",
    "np.multiply.outer(x, x)"
   ]
  },
  {
   "cell_type": "code",
   "execution_count": 35,
   "id": "c9e903c0-ea18-4a7b-85c8-e3bcb4f30749",
   "metadata": {},
   "outputs": [
    {
     "data": {
      "text/plain": [
       "array([[ 7.,  5.,  5.],\n",
       "       [ 8.,  2.,  9.],\n",
       "       [ 3., 10.,  5.]])"
      ]
     },
     "execution_count": 35,
     "metadata": {},
     "output_type": "execute_result"
    }
   ],
   "source": [
    "X = np.round(np.random.random((3, 3)) * 10)\n",
    "X"
   ]
  },
  {
   "cell_type": "code",
   "execution_count": 36,
   "id": "c90c3a10-9620-4e70-8d91-4f8952ed84f9",
   "metadata": {},
   "outputs": [
    {
     "data": {
      "text/plain": [
       "array([ 8., 10.,  9.])"
      ]
     },
     "execution_count": 36,
     "metadata": {},
     "output_type": "execute_result"
    }
   ],
   "source": [
    "X.max(axis=0)"
   ]
  },
  {
   "cell_type": "code",
   "execution_count": 37,
   "id": "40f5eadf-0566-4199-8786-ebc3380901da",
   "metadata": {},
   "outputs": [
    {
     "data": {
      "text/plain": [
       "array([ 7.,  9., 10.])"
      ]
     },
     "execution_count": 37,
     "metadata": {},
     "output_type": "execute_result"
    }
   ],
   "source": [
    "X.max(axis=1)"
   ]
  },
  {
   "cell_type": "code",
   "execution_count": null,
   "id": "a2395439-8671-481d-a824-8dc4b18c1c58",
   "metadata": {},
   "outputs": [],
   "source": []
  },
  {
   "cell_type": "code",
   "execution_count": null,
   "id": "a9de2b96-43f2-4eaa-93e1-cad66e60a9c1",
   "metadata": {},
   "outputs": [],
   "source": []
  }
 ],
 "metadata": {
  "kernelspec": {
   "display_name": "Python 3 (ipykernel)",
   "language": "python",
   "name": "python3"
  },
  "language_info": {
   "codemirror_mode": {
    "name": "ipython",
    "version": 3
   },
   "file_extension": ".py",
   "mimetype": "text/x-python",
   "name": "python",
   "nbconvert_exporter": "python",
   "pygments_lexer": "ipython3",
   "version": "3.10.2"
  }
 },
 "nbformat": 4,
 "nbformat_minor": 5
}
